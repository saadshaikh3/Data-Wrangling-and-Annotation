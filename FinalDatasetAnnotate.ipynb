{
 "cells": [
  {
   "cell_type": "markdown",
   "metadata": {},
   "source": [
    "# WITH TEXTBLOB"
   ]
  },
  {
   "cell_type": "code",
   "execution_count": null,
   "metadata": {},
   "outputs": [],
   "source": [
    "from textblob import TextBlob\n",
    "import pandas as pd\n",
    "import re"
   ]
  },
  {
   "cell_type": "code",
   "execution_count": null,
   "metadata": {},
   "outputs": [],
   "source": [
    "data = pd.read_csv(\"combine.csv\",engine='python',error_bad_lines=False,skip_blank_lines=True)"
   ]
  },
  {
   "cell_type": "code",
   "execution_count": null,
   "metadata": {},
   "outputs": [],
   "source": [
    "data.dropna(inplace=True)\n",
    "data.head()\n"
   ]
  },
  {
   "cell_type": "code",
   "execution_count": null,
   "metadata": {},
   "outputs": [],
   "source": [
    "len(data)"
   ]
  },
  {
   "cell_type": "code",
   "execution_count": null,
   "metadata": {},
   "outputs": [],
   "source": [
    "def clean_text(text):  \n",
    "    pat1 = r'@[^ ]+'                   \n",
    "    pat2 = r'https?://[A-Za-z0-9./]+'  \n",
    "    pat3 = r'\\'s'                      \n",
    "    pat4 = r'\\#\\w+'                     \n",
    "    pat5 = r'&amp '                     \n",
    "    pat6 = r'[^A-Za-z\\s]'               \n",
    "    combined_pat = r'|'.join((pat1, pat2,pat3,pat4,pat5, pat6))\n",
    "    text = re.sub(combined_pat,\"\",text).lower()\n",
    "    return text.strip()"
   ]
  },
  {
   "cell_type": "code",
   "execution_count": null,
   "metadata": {},
   "outputs": [],
   "source": [
    "data['content'] = data['content'].apply(str)\n",
    "data[\"content\"] = data[\"content\"].apply(clean_text)"
   ]
  },
  {
   "cell_type": "code",
   "execution_count": null,
   "metadata": {},
   "outputs": [],
   "source": [
    "data.head()"
   ]
  },
  {
   "cell_type": "code",
   "execution_count": null,
   "metadata": {},
   "outputs": [],
   "source": [
    "data= data[ ~(data[\"content\"] ==\"\")]"
   ]
  },
  {
   "cell_type": "code",
   "execution_count": null,
   "metadata": {},
   "outputs": [],
   "source": [
    "data.head()\n",
    "print(len(data))"
   ]
  },
  {
   "cell_type": "code",
   "execution_count": null,
   "metadata": {},
   "outputs": [],
   "source": [
    "def getSubjectivity(text):\n",
    "  print('subjectivity added')\n",
    "  return TextBlob(text).sentiment.subjectivity\n",
    "\n",
    "def getPolarity(text):\n",
    "   print('polarity added')\n",
    "   return TextBlob(text).sentiment.polarity\n",
    "   \n",
    "data['tweet_Subjectivity'] = data['content'].apply(getSubjectivity)\n",
    "data['tweet_Polarity'] = data['content'].apply(getPolarity)"
   ]
  },
  {
   "cell_type": "code",
   "execution_count": null,
   "metadata": {},
   "outputs": [],
   "source": [
    "data.head()"
   ]
  },
  {
   "cell_type": "code",
   "execution_count": null,
   "metadata": {},
   "outputs": [],
   "source": [
    "def sentiment(pol):\n",
    "  if pol>0:\n",
    "#     return 'pos'\n",
    "    return 1\n",
    "  elif pol<0:\n",
    "#     return 'neg'\n",
    "    return 0\n",
    "  else:\n",
    "        #return 'neut'\n",
    "    return 2\n",
    "\n",
    "\n",
    "data['sentiment'] = data['tweet_Polarity'].apply(sentiment)"
   ]
  },
  {
   "cell_type": "code",
   "execution_count": null,
   "metadata": {},
   "outputs": [],
   "source": [
    "data.head(18)"
   ]
  },
  {
   "cell_type": "code",
   "execution_count": null,
   "metadata": {},
   "outputs": [],
   "source": [
    "len(data)"
   ]
  },
  {
   "cell_type": "code",
   "execution_count": null,
   "metadata": {},
   "outputs": [],
   "source": [
    "print(\"Total positive tweets:\", len(data[data['sentiment']==1]), \"\\nTotal negative tweets:\", len(data[data['sentiment']==0]))"
   ]
  },
  {
   "cell_type": "code",
   "execution_count": null,
   "metadata": {},
   "outputs": [],
   "source": [
    "print(\"Total dataset lines:\",len(data))"
   ]
  },
  {
   "cell_type": "code",
   "execution_count": null,
   "metadata": {},
   "outputs": [],
   "source": [
    "# data.to_csv('Anothercleaneddataset.csv')\n",
    "data.to_csv('Anothercleaneddataset2.csv')"
   ]
  },
  {
   "cell_type": "code",
   "execution_count": null,
   "metadata": {},
   "outputs": [],
   "source": []
  },
  {
   "cell_type": "code",
   "execution_count": null,
   "metadata": {},
   "outputs": [],
   "source": []
  },
  {
   "cell_type": "code",
   "execution_count": null,
   "metadata": {},
   "outputs": [],
   "source": []
  },
  {
   "cell_type": "code",
   "execution_count": null,
   "metadata": {},
   "outputs": [],
   "source": []
  },
  {
   "cell_type": "code",
   "execution_count": null,
   "metadata": {},
   "outputs": [],
   "source": [
    "# mydata = pd.read_csv(\"imran khan.csv\",engine='python',error_bad_lines=False,skip_blank_lines=True)\n",
    "mydata = pd.read_csv(\"russia.csv\",engine='python',error_bad_lines=False,skip_blank_lines=True)"
   ]
  },
  {
   "cell_type": "code",
   "execution_count": null,
   "metadata": {},
   "outputs": [],
   "source": [
    "mydata.head()"
   ]
  },
  {
   "cell_type": "code",
   "execution_count": null,
   "metadata": {},
   "outputs": [],
   "source": [
    "mydata['text'] = mydata['text'].apply(str)\n",
    "mydata[\"text\"] = mydata[\"text\"].apply(clean_text)"
   ]
  },
  {
   "cell_type": "code",
   "execution_count": null,
   "metadata": {},
   "outputs": [],
   "source": [
    "def getPolarity(text):\n",
    "   print('polarity added')\n",
    "   return TextBlob(text).sentiment.polarity\n",
    "   \n",
    "\n",
    "mydata['tweet_Polarity'] = mydata['text'].apply(getPolarity)"
   ]
  },
  {
   "cell_type": "code",
   "execution_count": null,
   "metadata": {},
   "outputs": [],
   "source": [
    "mydf = mydata[(mydata.tweet_Polarity<-0.6)]\n"
   ]
  },
  {
   "cell_type": "code",
   "execution_count": null,
   "metadata": {},
   "outputs": [],
   "source": [
    "len(mydf)"
   ]
  },
  {
   "cell_type": "code",
   "execution_count": null,
   "metadata": {},
   "outputs": [],
   "source": [
    "mydf.head()"
   ]
  },
  {
   "cell_type": "markdown",
   "metadata": {},
   "source": [
    "# WITH VADER"
   ]
  },
  {
   "cell_type": "code",
   "execution_count": null,
   "metadata": {},
   "outputs": [],
   "source": [
    "# pip install vaderSentiment"
   ]
  },
  {
   "cell_type": "code",
   "execution_count": 1,
   "metadata": {},
   "outputs": [],
   "source": [
    "import nltk\n",
    "# nltk.download('vader_lexicon')\n",
    "from nltk.sentiment.vader import SentimentIntensityAnalyzer\n",
    "import pandas as pd\n",
    "import re\n",
    "\n",
    "sid = SentimentIntensityAnalyzer()"
   ]
  },
  {
   "cell_type": "code",
   "execution_count": 2,
   "metadata": {},
   "outputs": [
    {
     "data": {
      "text/html": [
       "<div>\n",
       "<style scoped>\n",
       "    .dataframe tbody tr th:only-of-type {\n",
       "        vertical-align: middle;\n",
       "    }\n",
       "\n",
       "    .dataframe tbody tr th {\n",
       "        vertical-align: top;\n",
       "    }\n",
       "\n",
       "    .dataframe thead th {\n",
       "        text-align: right;\n",
       "    }\n",
       "</style>\n",
       "<table border=\"1\" class=\"dataframe\">\n",
       "  <thead>\n",
       "    <tr style=\"text-align: right;\">\n",
       "      <th></th>\n",
       "      <th>date</th>\n",
       "      <th>user_id</th>\n",
       "      <th>text</th>\n",
       "      <th>url</th>\n",
       "      <th>renderedContent</th>\n",
       "      <th>user_name</th>\n",
       "      <th>user_followers</th>\n",
       "      <th>replyCount</th>\n",
       "      <th>retweet-count</th>\n",
       "      <th>likeCount</th>\n",
       "      <th>...</th>\n",
       "      <th>inReplyToUser</th>\n",
       "      <th>mentionedUsers</th>\n",
       "      <th>coordinates</th>\n",
       "      <th>user_location</th>\n",
       "      <th>hashtags</th>\n",
       "      <th>cashtags</th>\n",
       "      <th>mentionedUsers.1</th>\n",
       "      <th>outlinks.1</th>\n",
       "      <th>tcooutlinks</th>\n",
       "      <th>sourceLabel</th>\n",
       "    </tr>\n",
       "  </thead>\n",
       "  <tbody>\n",
       "    <tr>\n",
       "      <th>0</th>\n",
       "      <td>2022-04-13 23:59:40+00:00</td>\n",
       "      <td>1514392911965786117</td>\n",
       "      <td>This is huge &amp;amp; unprecedented. The people o...</td>\n",
       "      <td>https://twitter.com/khanmasood0943/status/1514...</td>\n",
       "      <td>This is huge &amp;amp; unprecedented. The people o...</td>\n",
       "      <td>khanmasood0943</td>\n",
       "      <td>69</td>\n",
       "      <td>0</td>\n",
       "      <td>0</td>\n",
       "      <td>1</td>\n",
       "      <td>...</td>\n",
       "      <td>NaN</td>\n",
       "      <td>NaN</td>\n",
       "      <td>NaN</td>\n",
       "      <td>NaN</td>\n",
       "      <td>['BehindYouSkipper', 'Ø§Ù…Ù¾ÙˆØ±Ù¹Úˆ_Ø­Ú©ÙˆÙ…Ø...</td>\n",
       "      <td>NaN</td>\n",
       "      <td>NaN</td>\n",
       "      <td>['https://twitter.com/ShahFarman_PTI/status/15...</td>\n",
       "      <td>['https://t.co/NOuFQeV4ci']</td>\n",
       "      <td>Twitter for Android</td>\n",
       "    </tr>\n",
       "    <tr>\n",
       "      <th>1</th>\n",
       "      <td>2022-04-13 23:59:40+00:00</td>\n",
       "      <td>1514392911475056655</td>\n",
       "      <td>Izzat Allah ny deni ha . \\n\\n#Ø§Ù…Ù¾ÙˆØ±Ù¹Úˆ_Ø...</td>\n",
       "      <td>https://twitter.com/MJamalKhalid/status/151439...</td>\n",
       "      <td>Izzat Allah ny deni ha . \\n\\n#Ø§Ù…Ù¾ÙˆØ±Ù¹Úˆ_Ø...</td>\n",
       "      <td>MJamalKhalid</td>\n",
       "      <td>0</td>\n",
       "      <td>0</td>\n",
       "      <td>0</td>\n",
       "      <td>0</td>\n",
       "      <td>...</td>\n",
       "      <td>NaN</td>\n",
       "      <td>NaN</td>\n",
       "      <td>NaN</td>\n",
       "      <td>NaN</td>\n",
       "      <td>['Ø§Ù…Ù¾ÙˆØ±Ù¹Úˆ_Ø­Ú©ÙˆÙ…Øª_Ù†Ø§Ù…Ù†Ø¸ÙˆØ±', '...</td>\n",
       "      <td>NaN</td>\n",
       "      <td>NaN</td>\n",
       "      <td>['https://twitter.com/Shiffa_ZY/status/1514319...</td>\n",
       "      <td>['https://t.co/ezxhZVZDn6']</td>\n",
       "      <td>Twitter for Android</td>\n",
       "    </tr>\n",
       "    <tr>\n",
       "      <th>2</th>\n",
       "      <td>2022-04-13 23:59:27+00:00</td>\n",
       "      <td>1514392856412237831</td>\n",
       "      <td>History will remind 1 thing, Imran Khan wasn't...</td>\n",
       "      <td>https://twitter.com/hafsa_jadoon/status/151439...</td>\n",
       "      <td>History will remind 1 thing, Imran Khan wasn't...</td>\n",
       "      <td>hafsa_jadoon</td>\n",
       "      <td>0</td>\n",
       "      <td>0</td>\n",
       "      <td>0</td>\n",
       "      <td>1</td>\n",
       "      <td>...</td>\n",
       "      <td>NaN</td>\n",
       "      <td>NaN</td>\n",
       "      <td>NaN</td>\n",
       "      <td>NaN</td>\n",
       "      <td>['BehindYouSkipper']</td>\n",
       "      <td>NaN</td>\n",
       "      <td>NaN</td>\n",
       "      <td>NaN</td>\n",
       "      <td>NaN</td>\n",
       "      <td>Twitter for Android</td>\n",
       "    </tr>\n",
       "    <tr>\n",
       "      <th>3</th>\n",
       "      <td>2022-04-13 23:59:16+00:00</td>\n",
       "      <td>1514392811331899405</td>\n",
       "      <td>Û�Ø§Ø¦Û’ Û�Ø§Ø¦Û’ Û�Ø§Ø¦Û’!!!!!! Û�Ø§Ø¦Û’ Ø§Ùˆ...</td>\n",
       "      <td>https://twitter.com/iamJawadRana/status/151439...</td>\n",
       "      <td>Û�Ø§Ø¦Û’ Û�Ø§Ø¦Û’ Û�Ø§Ø¦Û’!!!!!! Û�Ø§Ø¦Û’ Ø§Ùˆ...</td>\n",
       "      <td>iamJawadRana</td>\n",
       "      <td>1139</td>\n",
       "      <td>0</td>\n",
       "      <td>3</td>\n",
       "      <td>8</td>\n",
       "      <td>...</td>\n",
       "      <td>NaN</td>\n",
       "      <td>NaN</td>\n",
       "      <td>NaN</td>\n",
       "      <td>NaN</td>\n",
       "      <td>['Ø§Ù…Ù¾ÙˆØ±Ù¹Úˆ_Ø­Ú©ÙˆÙ…Øª_Ù†Ø§Ù…Ù†Ø¸ÙˆØ±', '...</td>\n",
       "      <td>NaN</td>\n",
       "      <td>NaN</td>\n",
       "      <td>NaN</td>\n",
       "      <td>NaN</td>\n",
       "      <td>Twitter for Android</td>\n",
       "    </tr>\n",
       "    <tr>\n",
       "      <th>4</th>\n",
       "      <td>2022-04-13 23:59:13+00:00</td>\n",
       "      <td>1514392798140715023</td>\n",
       "      <td>@soldierspeaks #Ø§Ù…Ù¾ÙˆØ±Ù¹Úˆ_Ø­Ú©ÙˆÙ…Øª_Ù†Ø§...</td>\n",
       "      <td>https://twitter.com/HecklingQ/status/151439279...</td>\n",
       "      <td>@soldierspeaks #Ø§Ù…Ù¾ÙˆØ±Ù¹Úˆ_Ø­Ú©ÙˆÙ…Øª_Ù†Ø§...</td>\n",
       "      <td>HecklingQ</td>\n",
       "      <td>22</td>\n",
       "      <td>0</td>\n",
       "      <td>0</td>\n",
       "      <td>0</td>\n",
       "      <td>...</td>\n",
       "      <td>https://twitter.com/soldierspeaks</td>\n",
       "      <td>[User(username='soldierspeaks', id=205712608, ...</td>\n",
       "      <td>NaN</td>\n",
       "      <td>NaN</td>\n",
       "      <td>['Ø§Ù…Ù¾ÙˆØ±Ù¹Úˆ_Ø­Ú©ÙˆÙ…Øª_Ù†Ø§Ù…Ù†Ø¸ÙˆØ±', '...</td>\n",
       "      <td>NaN</td>\n",
       "      <td>[User(username='soldierspeaks', id=205712608, ...</td>\n",
       "      <td>NaN</td>\n",
       "      <td>NaN</td>\n",
       "      <td>Twitter for Android</td>\n",
       "    </tr>\n",
       "  </tbody>\n",
       "</table>\n",
       "<p>5 rows × 28 columns</p>\n",
       "</div>"
      ],
      "text/plain": [
       "                        date              user_id  \\\n",
       "0  2022-04-13 23:59:40+00:00  1514392911965786117   \n",
       "1  2022-04-13 23:59:40+00:00  1514392911475056655   \n",
       "2  2022-04-13 23:59:27+00:00  1514392856412237831   \n",
       "3  2022-04-13 23:59:16+00:00  1514392811331899405   \n",
       "4  2022-04-13 23:59:13+00:00  1514392798140715023   \n",
       "\n",
       "                                                text  \\\n",
       "0  This is huge &amp; unprecedented. The people o...   \n",
       "1  Izzat Allah ny deni ha . \\n\\n#Ø§Ù…Ù¾ÙˆØ±Ù¹Úˆ_Ø...   \n",
       "2  History will remind 1 thing, Imran Khan wasn't...   \n",
       "3  Û�Ø§Ø¦Û’ Û�Ø§Ø¦Û’ Û�Ø§Ø¦Û’!!!!!! Û�Ø§Ø¦Û’ Ø§Ùˆ...   \n",
       "4  @soldierspeaks #Ø§Ù…Ù¾ÙˆØ±Ù¹Úˆ_Ø­Ú©ÙˆÙ…Øª_Ù†Ø§...   \n",
       "\n",
       "                                                 url  \\\n",
       "0  https://twitter.com/khanmasood0943/status/1514...   \n",
       "1  https://twitter.com/MJamalKhalid/status/151439...   \n",
       "2  https://twitter.com/hafsa_jadoon/status/151439...   \n",
       "3  https://twitter.com/iamJawadRana/status/151439...   \n",
       "4  https://twitter.com/HecklingQ/status/151439279...   \n",
       "\n",
       "                                     renderedContent       user_name  \\\n",
       "0  This is huge &amp; unprecedented. The people o...  khanmasood0943   \n",
       "1  Izzat Allah ny deni ha . \\n\\n#Ø§Ù…Ù¾ÙˆØ±Ù¹Úˆ_Ø...    MJamalKhalid   \n",
       "2  History will remind 1 thing, Imran Khan wasn't...    hafsa_jadoon   \n",
       "3  Û�Ø§Ø¦Û’ Û�Ø§Ø¦Û’ Û�Ø§Ø¦Û’!!!!!! Û�Ø§Ø¦Û’ Ø§Ùˆ...    iamJawadRana   \n",
       "4  @soldierspeaks #Ø§Ù…Ù¾ÙˆØ±Ù¹Úˆ_Ø­Ú©ÙˆÙ…Øª_Ù†Ø§...       HecklingQ   \n",
       "\n",
       "   user_followers  replyCount  retweet-count  likeCount  ...  \\\n",
       "0              69           0              0          1  ...   \n",
       "1               0           0              0          0  ...   \n",
       "2               0           0              0          1  ...   \n",
       "3            1139           0              3          8  ...   \n",
       "4              22           0              0          0  ...   \n",
       "\n",
       "                       inReplyToUser  \\\n",
       "0                                NaN   \n",
       "1                                NaN   \n",
       "2                                NaN   \n",
       "3                                NaN   \n",
       "4  https://twitter.com/soldierspeaks   \n",
       "\n",
       "                                      mentionedUsers  coordinates  \\\n",
       "0                                                NaN          NaN   \n",
       "1                                                NaN          NaN   \n",
       "2                                                NaN          NaN   \n",
       "3                                                NaN          NaN   \n",
       "4  [User(username='soldierspeaks', id=205712608, ...          NaN   \n",
       "\n",
       "  user_location                                           hashtags  cashtags  \\\n",
       "0           NaN  ['BehindYouSkipper', 'Ø§Ù…Ù¾ÙˆØ±Ù¹Úˆ_Ø­Ú©ÙˆÙ…Ø...       NaN   \n",
       "1           NaN  ['Ø§Ù…Ù¾ÙˆØ±Ù¹Úˆ_Ø­Ú©ÙˆÙ…Øª_Ù†Ø§Ù…Ù†Ø¸ÙˆØ±', '...       NaN   \n",
       "2           NaN                               ['BehindYouSkipper']       NaN   \n",
       "3           NaN  ['Ø§Ù…Ù¾ÙˆØ±Ù¹Úˆ_Ø­Ú©ÙˆÙ…Øª_Ù†Ø§Ù…Ù†Ø¸ÙˆØ±', '...       NaN   \n",
       "4           NaN  ['Ø§Ù…Ù¾ÙˆØ±Ù¹Úˆ_Ø­Ú©ÙˆÙ…Øª_Ù†Ø§Ù…Ù†Ø¸ÙˆØ±', '...       NaN   \n",
       "\n",
       "                                    mentionedUsers.1  \\\n",
       "0                                                NaN   \n",
       "1                                                NaN   \n",
       "2                                                NaN   \n",
       "3                                                NaN   \n",
       "4  [User(username='soldierspeaks', id=205712608, ...   \n",
       "\n",
       "                                          outlinks.1  \\\n",
       "0  ['https://twitter.com/ShahFarman_PTI/status/15...   \n",
       "1  ['https://twitter.com/Shiffa_ZY/status/1514319...   \n",
       "2                                                NaN   \n",
       "3                                                NaN   \n",
       "4                                                NaN   \n",
       "\n",
       "                   tcooutlinks          sourceLabel  \n",
       "0  ['https://t.co/NOuFQeV4ci']  Twitter for Android  \n",
       "1  ['https://t.co/ezxhZVZDn6']  Twitter for Android  \n",
       "2                          NaN  Twitter for Android  \n",
       "3                          NaN  Twitter for Android  \n",
       "4                          NaN  Twitter for Android  \n",
       "\n",
       "[5 rows x 28 columns]"
      ]
     },
     "execution_count": 2,
     "metadata": {},
     "output_type": "execute_result"
    }
   ],
   "source": [
    "data1 = pd.read_csv(\"combine.csv\",engine='python',error_bad_lines=False,skip_blank_lines=True)\n",
    "data2 = pd.read_csv(\"behindyouskipper.csv\",engine='python',error_bad_lines=False,skip_blank_lines=True)\n",
    "data3 = pd.read_csv(\"pakvsaus.csv\",engine='python',error_bad_lines=False,skip_blank_lines=True)\n",
    "data4 = pd.read_csv(\"bitcoin.csv\",engine='python',error_bad_lines=False,skip_blank_lines=True)\n",
    "data5 = pd.read_csv(\"Johnny Depp.csv\",engine='python',error_bad_lines=False,skip_blank_lines=True)\n",
    "# data1.dropna(inplace=True)\n",
    "# data2.dropna(inplace=True)\n",
    "# data3.dropna(inplace=True)\n",
    "# data4.dropna(inplace=True)\n",
    "# data5.dropna(inplace=True)\n",
    "data2.head()\n"
   ]
  },
  {
   "cell_type": "code",
   "execution_count": 3,
   "metadata": {},
   "outputs": [
    {
     "data": {
      "text/plain": [
       "20001"
      ]
     },
     "execution_count": 3,
     "metadata": {},
     "output_type": "execute_result"
    }
   ],
   "source": [
    "len(data3['text'])"
   ]
  },
  {
   "cell_type": "code",
   "execution_count": 4,
   "metadata": {},
   "outputs": [
    {
     "name": "stdout",
     "output_type": "stream",
     "text": [
      "(173391, 1)\n",
      "173391\n"
     ]
    }
   ],
   "source": [
    "# data=pd.DataFrame()\n",
    "data_total=pd.concat([data1[['text']],data2[['text']],data3[['text']],data4[['text']],data5[['text']]], ignore_index=True)\n",
    "data = pd.DataFrame(data_total, columns = ['text'])\n",
    "print(data.shape)\n",
    "print(len(data))"
   ]
  },
  {
   "cell_type": "code",
   "execution_count": 5,
   "metadata": {},
   "outputs": [
    {
     "data": {
      "text/html": [
       "<div>\n",
       "<style scoped>\n",
       "    .dataframe tbody tr th:only-of-type {\n",
       "        vertical-align: middle;\n",
       "    }\n",
       "\n",
       "    .dataframe tbody tr th {\n",
       "        vertical-align: top;\n",
       "    }\n",
       "\n",
       "    .dataframe thead th {\n",
       "        text-align: right;\n",
       "    }\n",
       "</style>\n",
       "<table border=\"1\" class=\"dataframe\">\n",
       "  <thead>\n",
       "    <tr style=\"text-align: right;\">\n",
       "      <th></th>\n",
       "      <th>text</th>\n",
       "    </tr>\n",
       "  </thead>\n",
       "  <tbody>\n",
       "    <tr>\n",
       "      <th>0</th>\n",
       "      <td>@LabourPatriot @RmSalih So @ChelseaFC do not h...</td>\n",
       "    </tr>\n",
       "    <tr>\n",
       "      <th>1</th>\n",
       "      <td>NaN</td>\n",
       "    </tr>\n",
       "    <tr>\n",
       "      <th>2</th>\n",
       "      <td>#johnnydepp #JusticeForJohnnyDepp @YouTube is ...</td>\n",
       "    </tr>\n",
       "    <tr>\n",
       "      <th>3</th>\n",
       "      <td>Happy Pride Monthâ™¥ï¸�ðŸ�³ï¸�â€�ðŸŒˆðŸ�³ï¸�â€...</td>\n",
       "    </tr>\n",
       "    <tr>\n",
       "      <th>4</th>\n",
       "      <td>@ReallySwara @Rashmidvs So much hate...\\r\\n#Hi...</td>\n",
       "    </tr>\n",
       "  </tbody>\n",
       "</table>\n",
       "</div>"
      ],
      "text/plain": [
       "                                                text\n",
       "0  @LabourPatriot @RmSalih So @ChelseaFC do not h...\n",
       "1                                                NaN\n",
       "2  #johnnydepp #JusticeForJohnnyDepp @YouTube is ...\n",
       "3  Happy Pride Monthâ™¥ï¸�ðŸ�³ï¸�â€�ðŸŒˆðŸ�³ï¸�â€...\n",
       "4  @ReallySwara @Rashmidvs So much hate...\\r\\n#Hi..."
      ]
     },
     "execution_count": 5,
     "metadata": {},
     "output_type": "execute_result"
    }
   ],
   "source": [
    "data.head()"
   ]
  },
  {
   "cell_type": "code",
   "execution_count": 8,
   "metadata": {},
   "outputs": [
    {
     "name": "stdout",
     "output_type": "stream",
     "text": [
      "126697\n"
     ]
    }
   ],
   "source": [
    "data=data.dropna()\n",
    "print(len(data))"
   ]
  },
  {
   "cell_type": "code",
   "execution_count": 11,
   "metadata": {},
   "outputs": [
    {
     "data": {
      "text/html": [
       "<div>\n",
       "<style scoped>\n",
       "    .dataframe tbody tr th:only-of-type {\n",
       "        vertical-align: middle;\n",
       "    }\n",
       "\n",
       "    .dataframe tbody tr th {\n",
       "        vertical-align: top;\n",
       "    }\n",
       "\n",
       "    .dataframe thead th {\n",
       "        text-align: right;\n",
       "    }\n",
       "</style>\n",
       "<table border=\"1\" class=\"dataframe\">\n",
       "  <thead>\n",
       "    <tr style=\"text-align: right;\">\n",
       "      <th></th>\n",
       "      <th>text</th>\n",
       "    </tr>\n",
       "  </thead>\n",
       "  <tbody>\n",
       "    <tr>\n",
       "      <th>0</th>\n",
       "      <td>@LabourPatriot @RmSalih So @ChelseaFC do not h...</td>\n",
       "    </tr>\n",
       "    <tr>\n",
       "      <th>1</th>\n",
       "      <td>#johnnydepp #JusticeForJohnnyDepp @YouTube is ...</td>\n",
       "    </tr>\n",
       "    <tr>\n",
       "      <th>2</th>\n",
       "      <td>Happy Pride Monthâ™¥ï¸�ðŸ�³ï¸�â€�ðŸŒˆðŸ�³ï¸�â€...</td>\n",
       "    </tr>\n",
       "    <tr>\n",
       "      <th>3</th>\n",
       "      <td>@ReallySwara @Rashmidvs So much hate...\\r\\n#Hi...</td>\n",
       "    </tr>\n",
       "    <tr>\n",
       "      <th>4</th>\n",
       "      <td>@AJEnglish @YoumnaElSayed17 @nida_journo @safw...</td>\n",
       "    </tr>\n",
       "  </tbody>\n",
       "</table>\n",
       "</div>"
      ],
      "text/plain": [
       "                                                text\n",
       "0  @LabourPatriot @RmSalih So @ChelseaFC do not h...\n",
       "1  #johnnydepp #JusticeForJohnnyDepp @YouTube is ...\n",
       "2  Happy Pride Monthâ™¥ï¸�ðŸ�³ï¸�â€�ðŸŒˆðŸ�³ï¸�â€...\n",
       "3  @ReallySwara @Rashmidvs So much hate...\\r\\n#Hi...\n",
       "4  @AJEnglish @YoumnaElSayed17 @nida_journo @safw..."
      ]
     },
     "execution_count": 11,
     "metadata": {},
     "output_type": "execute_result"
    }
   ],
   "source": [
    "data.reset_index(drop=True, inplace=True)\n",
    "data.head()"
   ]
  },
  {
   "cell_type": "code",
   "execution_count": 12,
   "metadata": {},
   "outputs": [],
   "source": [
    "def clean_text(text):  \n",
    "    pat1 = r'@[^ ]+'                   \n",
    "    pat2 = r'https?://[A-Za-z0-9./]+'  \n",
    "    pat3 = r'\\'s'                      \n",
    "    pat4 = r'\\#\\w+'                     \n",
    "    pat5 = r'&amp '                     \n",
    "    pat6 = r'[^A-Za-z\\s]'               \n",
    "    combined_pat = r'|'.join((pat1, pat2,pat3,pat4,pat5, pat6))\n",
    "    text = re.sub(combined_pat,\"\",text).lower()\n",
    "    return text.strip()"
   ]
  },
  {
   "cell_type": "code",
   "execution_count": 13,
   "metadata": {},
   "outputs": [],
   "source": [
    "data['text'] = data['text'].apply(str)\n",
    "data[\"text\"] = data[\"text\"].apply(clean_text)"
   ]
  },
  {
   "cell_type": "code",
   "execution_count": 14,
   "metadata": {},
   "outputs": [
    {
     "name": "stdout",
     "output_type": "stream",
     "text": [
      "126697\n"
     ]
    }
   ],
   "source": [
    "print(len(data))"
   ]
  },
  {
   "cell_type": "code",
   "execution_count": 15,
   "metadata": {},
   "outputs": [
    {
     "data": {
      "text/html": [
       "<div>\n",
       "<style scoped>\n",
       "    .dataframe tbody tr th:only-of-type {\n",
       "        vertical-align: middle;\n",
       "    }\n",
       "\n",
       "    .dataframe tbody tr th {\n",
       "        vertical-align: top;\n",
       "    }\n",
       "\n",
       "    .dataframe thead th {\n",
       "        text-align: right;\n",
       "    }\n",
       "</style>\n",
       "<table border=\"1\" class=\"dataframe\">\n",
       "  <thead>\n",
       "    <tr style=\"text-align: right;\">\n",
       "      <th></th>\n",
       "      <th>text</th>\n",
       "    </tr>\n",
       "  </thead>\n",
       "  <tbody>\n",
       "    <tr>\n",
       "      <th>0</th>\n",
       "      <td>so  do not have anything to say on this and wh...</td>\n",
       "    </tr>\n",
       "    <tr>\n",
       "      <th>1</th>\n",
       "      <td>is apparently upping their levels of  amp  sho...</td>\n",
       "    </tr>\n",
       "    <tr>\n",
       "      <th>2</th>\n",
       "      <td>happy pride month\\r\\n\\r\\nown uptake the space</td>\n",
       "    </tr>\n",
       "    <tr>\n",
       "      <th>3</th>\n",
       "      <td>so much hate</td>\n",
       "    </tr>\n",
       "    <tr>\n",
       "      <th>4</th>\n",
       "      <td>they never condemn death of baloch muslims pak...</td>\n",
       "    </tr>\n",
       "  </tbody>\n",
       "</table>\n",
       "</div>"
      ],
      "text/plain": [
       "                                                text\n",
       "0  so  do not have anything to say on this and wh...\n",
       "1  is apparently upping their levels of  amp  sho...\n",
       "2      happy pride month\\r\\n\\r\\nown uptake the space\n",
       "3                                       so much hate\n",
       "4  they never condemn death of baloch muslims pak..."
      ]
     },
     "execution_count": 15,
     "metadata": {},
     "output_type": "execute_result"
    }
   ],
   "source": [
    "data.head()"
   ]
  },
  {
   "cell_type": "code",
   "execution_count": 16,
   "metadata": {},
   "outputs": [
    {
     "data": {
      "text/html": [
       "<div>\n",
       "<style scoped>\n",
       "    .dataframe tbody tr th:only-of-type {\n",
       "        vertical-align: middle;\n",
       "    }\n",
       "\n",
       "    .dataframe tbody tr th {\n",
       "        vertical-align: top;\n",
       "    }\n",
       "\n",
       "    .dataframe thead th {\n",
       "        text-align: right;\n",
       "    }\n",
       "</style>\n",
       "<table border=\"1\" class=\"dataframe\">\n",
       "  <thead>\n",
       "    <tr style=\"text-align: right;\">\n",
       "      <th></th>\n",
       "      <th>text</th>\n",
       "      <th>scores</th>\n",
       "    </tr>\n",
       "  </thead>\n",
       "  <tbody>\n",
       "    <tr>\n",
       "      <th>0</th>\n",
       "      <td>so  do not have anything to say on this and wh...</td>\n",
       "      <td>{'neg': 0.0, 'neu': 1.0, 'pos': 0.0, 'compound...</td>\n",
       "    </tr>\n",
       "    <tr>\n",
       "      <th>1</th>\n",
       "      <td>is apparently upping their levels of  amp  sho...</td>\n",
       "      <td>{'neg': 0.045, 'neu': 0.868, 'pos': 0.087, 'co...</td>\n",
       "    </tr>\n",
       "    <tr>\n",
       "      <th>2</th>\n",
       "      <td>happy pride month\\r\\n\\r\\nown uptake the space</td>\n",
       "      <td>{'neg': 0.0, 'neu': 0.45, 'pos': 0.55, 'compou...</td>\n",
       "    </tr>\n",
       "    <tr>\n",
       "      <th>3</th>\n",
       "      <td>so much hate</td>\n",
       "      <td>{'neg': 0.665, 'neu': 0.335, 'pos': 0.0, 'comp...</td>\n",
       "    </tr>\n",
       "    <tr>\n",
       "      <th>4</th>\n",
       "      <td>they never condemn death of baloch muslims pak...</td>\n",
       "      <td>{'neg': 0.0, 'neu': 0.75, 'pos': 0.25, 'compou...</td>\n",
       "    </tr>\n",
       "  </tbody>\n",
       "</table>\n",
       "</div>"
      ],
      "text/plain": [
       "                                                text  \\\n",
       "0  so  do not have anything to say on this and wh...   \n",
       "1  is apparently upping their levels of  amp  sho...   \n",
       "2      happy pride month\\r\\n\\r\\nown uptake the space   \n",
       "3                                       so much hate   \n",
       "4  they never condemn death of baloch muslims pak...   \n",
       "\n",
       "                                              scores  \n",
       "0  {'neg': 0.0, 'neu': 1.0, 'pos': 0.0, 'compound...  \n",
       "1  {'neg': 0.045, 'neu': 0.868, 'pos': 0.087, 'co...  \n",
       "2  {'neg': 0.0, 'neu': 0.45, 'pos': 0.55, 'compou...  \n",
       "3  {'neg': 0.665, 'neu': 0.335, 'pos': 0.0, 'comp...  \n",
       "4  {'neg': 0.0, 'neu': 0.75, 'pos': 0.25, 'compou...  "
      ]
     },
     "execution_count": 16,
     "metadata": {},
     "output_type": "execute_result"
    }
   ],
   "source": [
    "data['scores'] = data['text'].apply(lambda text: sid.polarity_scores(text))\n",
    "\n",
    "data.head()"
   ]
  },
  {
   "cell_type": "code",
   "execution_count": 17,
   "metadata": {},
   "outputs": [
    {
     "data": {
      "text/html": [
       "<div>\n",
       "<style scoped>\n",
       "    .dataframe tbody tr th:only-of-type {\n",
       "        vertical-align: middle;\n",
       "    }\n",
       "\n",
       "    .dataframe tbody tr th {\n",
       "        vertical-align: top;\n",
       "    }\n",
       "\n",
       "    .dataframe thead th {\n",
       "        text-align: right;\n",
       "    }\n",
       "</style>\n",
       "<table border=\"1\" class=\"dataframe\">\n",
       "  <thead>\n",
       "    <tr style=\"text-align: right;\">\n",
       "      <th></th>\n",
       "      <th>text</th>\n",
       "      <th>scores</th>\n",
       "      <th>compound</th>\n",
       "    </tr>\n",
       "  </thead>\n",
       "  <tbody>\n",
       "    <tr>\n",
       "      <th>0</th>\n",
       "      <td>so  do not have anything to say on this and wh...</td>\n",
       "      <td>{'neg': 0.0, 'neu': 1.0, 'pos': 0.0, 'compound...</td>\n",
       "      <td>0.0000</td>\n",
       "    </tr>\n",
       "    <tr>\n",
       "      <th>1</th>\n",
       "      <td>is apparently upping their levels of  amp  sho...</td>\n",
       "      <td>{'neg': 0.045, 'neu': 0.868, 'pos': 0.087, 'co...</td>\n",
       "      <td>0.3182</td>\n",
       "    </tr>\n",
       "    <tr>\n",
       "      <th>2</th>\n",
       "      <td>happy pride month\\r\\n\\r\\nown uptake the space</td>\n",
       "      <td>{'neg': 0.0, 'neu': 0.45, 'pos': 0.55, 'compou...</td>\n",
       "      <td>0.7269</td>\n",
       "    </tr>\n",
       "    <tr>\n",
       "      <th>3</th>\n",
       "      <td>so much hate</td>\n",
       "      <td>{'neg': 0.665, 'neu': 0.335, 'pos': 0.0, 'comp...</td>\n",
       "      <td>-0.6096</td>\n",
       "    </tr>\n",
       "    <tr>\n",
       "      <th>4</th>\n",
       "      <td>they never condemn death of baloch muslims pak...</td>\n",
       "      <td>{'neg': 0.0, 'neu': 0.75, 'pos': 0.25, 'compou...</td>\n",
       "      <td>0.6520</td>\n",
       "    </tr>\n",
       "  </tbody>\n",
       "</table>\n",
       "</div>"
      ],
      "text/plain": [
       "                                                text  \\\n",
       "0  so  do not have anything to say on this and wh...   \n",
       "1  is apparently upping their levels of  amp  sho...   \n",
       "2      happy pride month\\r\\n\\r\\nown uptake the space   \n",
       "3                                       so much hate   \n",
       "4  they never condemn death of baloch muslims pak...   \n",
       "\n",
       "                                              scores  compound  \n",
       "0  {'neg': 0.0, 'neu': 1.0, 'pos': 0.0, 'compound...    0.0000  \n",
       "1  {'neg': 0.045, 'neu': 0.868, 'pos': 0.087, 'co...    0.3182  \n",
       "2  {'neg': 0.0, 'neu': 0.45, 'pos': 0.55, 'compou...    0.7269  \n",
       "3  {'neg': 0.665, 'neu': 0.335, 'pos': 0.0, 'comp...   -0.6096  \n",
       "4  {'neg': 0.0, 'neu': 0.75, 'pos': 0.25, 'compou...    0.6520  "
      ]
     },
     "execution_count": 17,
     "metadata": {},
     "output_type": "execute_result"
    }
   ],
   "source": [
    "data['compound']  = data['scores'].apply(lambda score_dict: score_dict['compound'])\n",
    "\n",
    "data.head()"
   ]
  },
  {
   "cell_type": "code",
   "execution_count": 18,
   "metadata": {},
   "outputs": [
    {
     "data": {
      "text/html": [
       "<div>\n",
       "<style scoped>\n",
       "    .dataframe tbody tr th:only-of-type {\n",
       "        vertical-align: middle;\n",
       "    }\n",
       "\n",
       "    .dataframe tbody tr th {\n",
       "        vertical-align: top;\n",
       "    }\n",
       "\n",
       "    .dataframe thead th {\n",
       "        text-align: right;\n",
       "    }\n",
       "</style>\n",
       "<table border=\"1\" class=\"dataframe\">\n",
       "  <thead>\n",
       "    <tr style=\"text-align: right;\">\n",
       "      <th></th>\n",
       "      <th>text</th>\n",
       "      <th>scores</th>\n",
       "      <th>compound</th>\n",
       "      <th>sentiment</th>\n",
       "    </tr>\n",
       "  </thead>\n",
       "  <tbody>\n",
       "    <tr>\n",
       "      <th>0</th>\n",
       "      <td>so  do not have anything to say on this and wh...</td>\n",
       "      <td>{'neg': 0.0, 'neu': 1.0, 'pos': 0.0, 'compound...</td>\n",
       "      <td>0.0000</td>\n",
       "      <td>2</td>\n",
       "    </tr>\n",
       "    <tr>\n",
       "      <th>1</th>\n",
       "      <td>is apparently upping their levels of  amp  sho...</td>\n",
       "      <td>{'neg': 0.045, 'neu': 0.868, 'pos': 0.087, 'co...</td>\n",
       "      <td>0.3182</td>\n",
       "      <td>1</td>\n",
       "    </tr>\n",
       "    <tr>\n",
       "      <th>2</th>\n",
       "      <td>happy pride month\\r\\n\\r\\nown uptake the space</td>\n",
       "      <td>{'neg': 0.0, 'neu': 0.45, 'pos': 0.55, 'compou...</td>\n",
       "      <td>0.7269</td>\n",
       "      <td>1</td>\n",
       "    </tr>\n",
       "    <tr>\n",
       "      <th>3</th>\n",
       "      <td>so much hate</td>\n",
       "      <td>{'neg': 0.665, 'neu': 0.335, 'pos': 0.0, 'comp...</td>\n",
       "      <td>-0.6096</td>\n",
       "      <td>0</td>\n",
       "    </tr>\n",
       "    <tr>\n",
       "      <th>4</th>\n",
       "      <td>they never condemn death of baloch muslims pak...</td>\n",
       "      <td>{'neg': 0.0, 'neu': 0.75, 'pos': 0.25, 'compou...</td>\n",
       "      <td>0.6520</td>\n",
       "      <td>1</td>\n",
       "    </tr>\n",
       "  </tbody>\n",
       "</table>\n",
       "</div>"
      ],
      "text/plain": [
       "                                                text  \\\n",
       "0  so  do not have anything to say on this and wh...   \n",
       "1  is apparently upping their levels of  amp  sho...   \n",
       "2      happy pride month\\r\\n\\r\\nown uptake the space   \n",
       "3                                       so much hate   \n",
       "4  they never condemn death of baloch muslims pak...   \n",
       "\n",
       "                                              scores  compound  sentiment  \n",
       "0  {'neg': 0.0, 'neu': 1.0, 'pos': 0.0, 'compound...    0.0000          2  \n",
       "1  {'neg': 0.045, 'neu': 0.868, 'pos': 0.087, 'co...    0.3182          1  \n",
       "2  {'neg': 0.0, 'neu': 0.45, 'pos': 0.55, 'compou...    0.7269          1  \n",
       "3  {'neg': 0.665, 'neu': 0.335, 'pos': 0.0, 'comp...   -0.6096          0  \n",
       "4  {'neg': 0.0, 'neu': 0.75, 'pos': 0.25, 'compou...    0.6520          1  "
      ]
     },
     "execution_count": 18,
     "metadata": {},
     "output_type": "execute_result"
    }
   ],
   "source": [
    "data['sentiment'] = data['compound'].apply(lambda c: 1 if c>0 else(0 if c<0 else 2))\n",
    "\n",
    "data.head()"
   ]
  },
  {
   "cell_type": "code",
   "execution_count": 19,
   "metadata": {},
   "outputs": [
    {
     "name": "stdout",
     "output_type": "stream",
     "text": [
      "Total positive tweets: 35951 \n",
      "Total negative tweets: 32333\n"
     ]
    }
   ],
   "source": [
    "print(\"Total positive tweets:\", len(data[data['sentiment']==1]), \"\\nTotal negative tweets:\", len(data[data['sentiment']==0]))"
   ]
  },
  {
   "cell_type": "code",
   "execution_count": 20,
   "metadata": {},
   "outputs": [
    {
     "name": "stdout",
     "output_type": "stream",
     "text": [
      "Total dataset lines: 126697\n"
     ]
    }
   ],
   "source": [
    "print(\"Total dataset lines:\",len(data))"
   ]
  },
  {
   "cell_type": "code",
   "execution_count": 22,
   "metadata": {},
   "outputs": [],
   "source": [
    "# data.to_csv('AnothercleaneddatasetVader.csv')\n",
    "data.to_csv('AnothercleaneddatasetVader_latest.csv',index=False)"
   ]
  },
  {
   "cell_type": "code",
   "execution_count": null,
   "metadata": {},
   "outputs": [],
   "source": []
  },
  {
   "cell_type": "code",
   "execution_count": null,
   "metadata": {},
   "outputs": [],
   "source": []
  },
  {
   "cell_type": "code",
   "execution_count": null,
   "metadata": {},
   "outputs": [],
   "source": []
  },
  {
   "cell_type": "code",
   "execution_count": null,
   "metadata": {},
   "outputs": [],
   "source": []
  },
  {
   "cell_type": "code",
   "execution_count": null,
   "metadata": {},
   "outputs": [],
   "source": []
  },
  {
   "cell_type": "code",
   "execution_count": null,
   "metadata": {},
   "outputs": [],
   "source": [
    "mydata = pd.read_csv(\"imran khan.csv\",engine='python',error_bad_lines=False,skip_blank_lines=True)\n",
    "# mydata = pd.read_csv(\"russia.csv\",engine='python',error_bad_lines=False,skip_blank_lines=True)\n",
    "mydata.head()"
   ]
  },
  {
   "cell_type": "code",
   "execution_count": null,
   "metadata": {},
   "outputs": [],
   "source": [
    "# mydata.dropna(inplace=True)\n",
    "mydata['text'] = mydata['text'].apply(str)\n",
    "mydata[\"text\"] = mydata[\"text\"].apply(clean_text)\n",
    "len(mydata)"
   ]
  },
  {
   "cell_type": "code",
   "execution_count": null,
   "metadata": {},
   "outputs": [],
   "source": [
    "mydata['scores'] = mydata['text'].apply(lambda text: sid.polarity_scores(text))\n",
    "mydata['compound']  = mydata['scores'].apply(lambda score_dict: score_dict['compound'])\n",
    "mydata['sentiment'] = mydata['compound'].apply(lambda c: 1 if c>0 else(0 if c<0 else 2))\n",
    "print(len(mydata))"
   ]
  },
  {
   "cell_type": "code",
   "execution_count": null,
   "metadata": {},
   "outputs": [],
   "source": [
    "mydata.head(10)"
   ]
  },
  {
   "cell_type": "code",
   "execution_count": null,
   "metadata": {},
   "outputs": [],
   "source": [
    "mydata = mydata.sort_values(by='compound',ascending=True)\n",
    "mydata.head(10)"
   ]
  },
  {
   "cell_type": "code",
   "execution_count": null,
   "metadata": {
    "scrolled": true
   },
   "outputs": [],
   "source": [
    "# mydf = mydata[(mydata.compound<-0.88)]\n",
    "# print(len(mydf))\n",
    "mydf = mydata.head(10)\n",
    "print(len(mydf))\n"
   ]
  },
  {
   "cell_type": "code",
   "execution_count": null,
   "metadata": {},
   "outputs": [],
   "source": [
    "mydf.head()"
   ]
  },
  {
   "cell_type": "code",
   "execution_count": null,
   "metadata": {},
   "outputs": [],
   "source": [
    "# pd.set_option('display.max_rows', None)\n",
    "mydf.text"
   ]
  },
  {
   "cell_type": "code",
   "execution_count": null,
   "metadata": {},
   "outputs": [],
   "source": [
    "mydata.reset_index(drop=True, inplace=True)"
   ]
  },
  {
   "cell_type": "code",
   "execution_count": null,
   "metadata": {},
   "outputs": [],
   "source": [
    "# mydata.to_csv('Imran_Khan_sent_with_vader.csv')\n",
    "# mydata.to_csv('Russia_sent_with_vader.csv')"
   ]
  },
  {
   "cell_type": "code",
   "execution_count": null,
   "metadata": {},
   "outputs": [],
   "source": []
  }
 ],
 "metadata": {
  "kernelspec": {
   "display_name": "Python 3",
   "language": "python",
   "name": "python3"
  },
  "language_info": {
   "codemirror_mode": {
    "name": "ipython",
    "version": 3
   },
   "file_extension": ".py",
   "mimetype": "text/x-python",
   "name": "python",
   "nbconvert_exporter": "python",
   "pygments_lexer": "ipython3",
   "version": "3.7.6"
  }
 },
 "nbformat": 4,
 "nbformat_minor": 4
}
